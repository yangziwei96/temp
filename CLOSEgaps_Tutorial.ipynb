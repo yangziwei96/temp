{
 "cells": [
  {
   "cell_type": "markdown",
   "metadata": {},
   "source": [
    "# CLOSEgaps Tutorial: Deep Learning for Metabolic Network Gap-Filling\n",
    "\n",
    "This notebook demonstrates the complete CLOSEgaps pipeline step by step, from data loading to prediction.\n",
    "\n",
    "## Overview\n",
    "CLOSEgaps is a deep learning-driven tool that addresses gap-filling in Genome-scale Metabolic Models (GEMs) by modeling it as a hyperedge prediction problem.\n",
    "\n",
    "## Key Components\n",
    "1. **Data Loading**: Load metabolic networks and convert to hypergraph representation\n",
    "2. **Feature Engineering**: Convert metabolites to molecular fingerprints\n",
    "3. **Model Architecture**: Hypergraph Neural Network with attention\n",
    "4. **Training**: Train the model on reaction prediction\n",
    "5. **Prediction**: Predict missing reactions in new GEMs\n",
    "6. **Validation**: Biological validation using Flux Balance Analysis"
   ]
  },
  {
   "cell_type": "markdown",
   "metadata": {},
   "source": [
    "## 1. Setup and Dependencies"
   ]
  },
  {
   "cell_type": "code",
   "execution_count": 14,
   "metadata": {},
   "outputs": [],
   "source": [
    "# Install required packages (uncomment if needed)\n",
    "# !pip install torch torch-geometric torch-scatter torch-sparse\n",
    "# !pip install cobra optlang pandas numpy scikit-learn rdkit tqdm"
   ]
  },
  {
   "cell_type": "code",
   "execution_count": 3,
   "metadata": {},
   "outputs": [
    {
     "name": "stdout",
     "output_type": "stream",
     "text": [
      "Using device: cpu\n"
     ]
    }
   ],
   "source": [
    "import os\n",
    "import torch\n",
    "import torch.nn as nn\n",
    "import torch_geometric.nn as hnn\n",
    "import pandas as pd\n",
    "import numpy as np\n",
    "import re\n",
    "import math\n",
    "import random\n",
    "from tqdm import tqdm\n",
    "from sklearn.metrics import f1_score, recall_score, precision_score, roc_auc_score, average_precision_score\n",
    "from sklearn.model_selection import train_test_split\n",
    "from rdkit import Chem\n",
    "from rdkit.Chem import AllChem\n",
    "import warnings\n",
    "warnings.filterwarnings('ignore')\n",
    "\n",
    "# Set device\n",
    "device = 'cuda' if torch.cuda.is_available() else 'cpu'\n",
    "print(f\"Using device: {device}\")\n",
    "\n",
    "# Set random seed for reproducibility\n",
    "def set_random_seed(seed=42):\n",
    "    random.seed(seed)\n",
    "    np.random.seed(seed)\n",
    "    torch.manual_seed(seed)\n",
    "    if torch.cuda.is_available():\n",
    "        torch.cuda.manual_seed(seed)\n",
    "        torch.cuda.manual_seed_all(seed)\n",
    "\n",
    "set_random_seed(42)"
   ]
  },
  {
   "cell_type": "markdown",
   "metadata": {},
   "source": [
    "## 2. Data Processing Functions"
   ]
  },
  {
   "cell_type": "code",
   "execution_count": 4,
   "metadata": {},
   "outputs": [],
   "source": [
    "def get_coefficient_and_reactant(reactions):\n",
    "    \"\"\"Parse reaction strings to extract coefficients, metabolites, and directions\"\"\"\n",
    "    reactions_index = []\n",
    "    reactions_metas = []\n",
    "    reactants_nums = []\n",
    "    direction = []\n",
    "    \n",
    "    for rxn in reactions:\n",
    "        rxn_index, rxn_metas, rxn_direction = [], [], '=>'\n",
    "        if '<=>' in rxn:\n",
    "            rxn_direction = '<=>'\n",
    "        \n",
    "        tem_rxn = rxn.replace(' ' + rxn_direction + ' ', ' + ')\n",
    "        metas = tem_rxn.split(' + ')\n",
    "        \n",
    "        for m in metas:\n",
    "            a = re.findall('\\d+\\.?\\d*', m)\n",
    "            b = m.split(' ')\n",
    "            if len(a) and a[0] == b[0]:\n",
    "                rxn_index.append(a[0])\n",
    "                rxn_metas.append(' '.join(b[1:]))\n",
    "            else:\n",
    "                rxn_metas.append(m)\n",
    "                rxn_index.append('1')\n",
    "        \n",
    "        reactant, product = rxn.split(' ' + rxn_direction + ' ')\n",
    "        reactants = reactant.split(' + ')\n",
    "        products = product.split(' + ')\n",
    "        reactants_nums.append(len(reactants))\n",
    "        \n",
    "        reactions_index.append(rxn_index)\n",
    "        reactions_metas.append(rxn_metas)\n",
    "        direction.append(rxn_direction)\n",
    "    \n",
    "    return reactions_index, reactions_metas, reactants_nums, direction\n",
    "\n",
    "def smiles_to_fp(smiles, radius=2, nBits=2048):\n",
    "    \"\"\"Convert SMILES to Morgan fingerprint\"\"\"\n",
    "    try:\n",
    "        mol = Chem.MolFromSmiles(smiles)\n",
    "        if mol is None:\n",
    "            return np.zeros((1, nBits))\n",
    "        fp = AllChem.GetMorganFingerprintAsBitVect(mol, radius=radius, nBits=nBits, useFeatures=False)\n",
    "        fp_bits = fp.ToBitString()\n",
    "        finger_print = np.array(list(map(int, fp_bits))).astype(np.float).reshape(1, -1)\n",
    "        return finger_print\n",
    "    except:\n",
    "        return np.zeros((1, nBits))\n",
    "\n",
    "def getGipKernel(X, normalize=True, lambda_param=1.0):\n",
    "    \"\"\"Compute Gaussian Interaction Profile kernel\"\"\"\n",
    "    if normalize:\n",
    "        X = X / (torch.norm(X, dim=1, keepdim=True) + 1e-8)\n",
    "    \n",
    "    K = torch.exp(-lambda_param * torch.cdist(X, X, p=2))\n",
    "    return K"
   ]
  },
  {
   "cell_type": "markdown",
   "metadata": {},
   "source": [
    "## 3. CLOSEgaps Model Architecture"
   ]
  },
  {
   "cell_type": "code",
   "execution_count": 5,
   "metadata": {},
   "outputs": [],
   "source": [
    "class CLOSEgaps(nn.Module):\n",
    "    def __init__(self, input_num, input_feature_num, emb_dim, conv_dim, head=3, p=0.1, L=1,\n",
    "                 use_attention=True, similarity=None):\n",
    "        super(CLOSEgaps, self).__init__()\n",
    "        self.emb_dim = emb_dim\n",
    "        self.conv_dim = conv_dim\n",
    "        self.p = p\n",
    "        self.input_num = input_num\n",
    "        self.head = head\n",
    "        self.hyper_conv_L = L\n",
    "        \n",
    "        # Feature encoders\n",
    "        self.linear_encoder = nn.Linear(input_feature_num, emb_dim)\n",
    "        self.similarity_liner = nn.Linear(input_num, emb_dim)\n",
    "        \n",
    "        self.max_pool = hnn.global_max_pool\n",
    "        self.similarity = similarity\n",
    "        self.in_channel = emb_dim\n",
    "        \n",
    "        if similarity is not None:\n",
    "            self.in_channel = 2 * emb_dim\n",
    "\n",
    "        self.relu = nn.ReLU()\n",
    "        \n",
    "        # Hypergraph convolution layers\n",
    "        self.hypergraph_conv = hnn.HypergraphConv(\n",
    "            self.in_channel, conv_dim, heads=head, use_attention=use_attention, dropout=p\n",
    "        )\n",
    "        \n",
    "        if L > 1:\n",
    "            self.hypergraph_conv_list = nn.ModuleList()\n",
    "            for l in range(L - 1):\n",
    "                self.hypergraph_conv_list.append(\n",
    "                    hnn.HypergraphConv(head * conv_dim, conv_dim, heads=head, \n",
    "                                       use_attention=use_attention, dropout=p)\n",
    "                )\n",
    "\n",
    "        if use_attention:\n",
    "            self.hyper_attr_liner = nn.Linear(input_num, self.in_channel)\n",
    "            if L > 1:\n",
    "                self.hyperedge_attr_list = nn.ModuleList()\n",
    "                for l in range(L - 1):\n",
    "                    self.hyperedge_attr_list.append(nn.Linear(input_num, head * conv_dim))\n",
    "        \n",
    "        self.hyperedge_linear = nn.Linear(conv_dim * head, 2)\n",
    "        self.softmax = nn.Softmax(dim=1)\n",
    "\n",
    "    def forward(self, input_features, incidence_matrix):\n",
    "        # Encode input features\n",
    "        input_nodes_features = self.relu(self.linear_encoder(input_features))\n",
    "        \n",
    "        # Add similarity features if available\n",
    "        if self.similarity is not None:\n",
    "            simi_feature = self.relu(self.similarity_liner(self.similarity))\n",
    "            input_nodes_features = torch.cat((simi_feature, input_nodes_features), dim=1)\n",
    "\n",
    "        # Create edge indices for hypergraph\n",
    "        row, col = torch.where(incidence_matrix.T)\n",
    "        edges = torch.cat((col.view(1, -1), row.view(1, -1)), dim=0)\n",
    "        \n",
    "        # Hyperedge attributes\n",
    "        hyperedge_attr = self.hyper_attr_liner(incidence_matrix.T)\n",
    "        \n",
    "        # First hypergraph convolution\n",
    "        input_nodes_features = self.hypergraph_conv(input_nodes_features, edges, hyperedge_attr=hyperedge_attr)\n",
    "        \n",
    "        # Additional layers if L > 1\n",
    "        if self.hyper_conv_L > 1:\n",
    "            for l in range(self.hyper_conv_L - 1):\n",
    "                layer_hyperedge_attr = self.hyperedge_attr_list[l](incidence_matrix.T)\n",
    "                input_nodes_features = self.hypergraph_conv_list[l](\n",
    "                    input_nodes_features, edges, hyperedge_attr=layer_hyperedge_attr\n",
    "                )\n",
    "                input_nodes_features = self.relu(input_nodes_features)\n",
    "\n",
    "        # Aggregate features for hyperedge prediction\n",
    "        hyperedge_feature = torch.mm(incidence_matrix.T, input_nodes_features)\n",
    "        return self.hyperedge_linear(hyperedge_feature)\n",
    "\n",
    "    def predict(self, input_features, incidence_matrix):\n",
    "        return self.softmax(self.forward(input_features, incidence_matrix))"
   ]
  },
  {
   "cell_type": "markdown",
   "metadata": {},
   "source": [
    "## 4. Data Loading and Preprocessing"
   ]
  },
  {
   "cell_type": "code",
   "execution_count": 6,
   "metadata": {},
   "outputs": [
    {
     "name": "stdout",
     "output_type": "stream",
     "text": [
      "Loading dataset: iAF1260b\n",
      "Loaded 1612 reactions and 765 metabolites\n",
      "Incidence matrix shape: (750, 1612)\n",
      "Creating molecular fingerprints...\n",
      "Created features with shape: (750, 2048)\n",
      "\n",
      "Dataset Summary:\n",
      "Number of metabolites: 750\n",
      "Number of reactions: 1612\n",
      "Feature dimension: 2048\n"
     ]
    },
    {
     "name": "stderr",
     "output_type": "stream",
     "text": [
      "[13:18:29] WARNING: not removing hydrogen atom without neighbors\n",
      "[13:18:29] WARNING: not removing hydrogen atom without neighbors\n"
     ]
    }
   ],
   "source": [
    "def load_dataset(dataset_name='iAF1260b'):\n",
    "    \"\"\"Load a specific dataset\"\"\"\n",
    "    print(f\"Loading dataset: {dataset_name}\")\n",
    "    \n",
    "    # Load reactions\n",
    "    rxn_file = f'./data/{dataset_name}/{dataset_name}_rxn_name_list.txt'\n",
    "    with open(rxn_file, 'r') as f:\n",
    "        reactions = [line.strip() for line in f.readlines()]\n",
    "    \n",
    "    # Load metabolites with SMILES\n",
    "    meta_file = f'./data/{dataset_name}/{dataset_name}_meta_count.csv'\n",
    "    metabolites_df = pd.read_csv(meta_file)\n",
    "    \n",
    "    print(f\"Loaded {len(reactions)} reactions and {len(metabolites_df)} metabolites\")\n",
    "    return reactions, metabolites_df\n",
    "\n",
    "def create_incidence_matrix(reactions, metabolites_df):\n",
    "    \"\"\"Create incidence matrix from reactions\"\"\"\n",
    "    # Parse reactions\n",
    "    reactions_index, reactions_metas, reactants_nums, direction = get_coefficient_and_reactant(reactions)\n",
    "    \n",
    "    # Get all unique metabolites\n",
    "    all_metas = list(set(sum(reactions_metas, [])))\n",
    "    all_metas.sort()\n",
    "    \n",
    "    # Create incidence matrix\n",
    "    incidence_matrix = np.zeros((len(all_metas), len(reactions)))\n",
    "    \n",
    "    for i, (rxn_index, rxn_metas) in enumerate(zip(reactions_index, reactions_metas)):\n",
    "        for j, meta in enumerate(rxn_metas):\n",
    "            if meta in all_metas:\n",
    "                meta_idx = all_metas.index(meta)\n",
    "                incidence_matrix[meta_idx, i] = float(rxn_index[j])\n",
    "    \n",
    "    return incidence_matrix, all_metas\n",
    "\n",
    "def create_molecular_features(metabolites_df, all_metas):\n",
    "    \"\"\"Create molecular fingerprint features for metabolites\"\"\"\n",
    "    print(\"Creating molecular fingerprints...\")\n",
    "    \n",
    "    # Create name to SMILES mapping\n",
    "    name_to_smiles = dict(zip(metabolites_df['name'], metabolites_df['smiles']))\n",
    "    \n",
    "    # Create features for all metabolites\n",
    "    features = []\n",
    "    for meta in all_metas:\n",
    "        if meta in name_to_smiles:\n",
    "            smiles = name_to_smiles[meta]\n",
    "            fp = smiles_to_fp(smiles)[0]  # Remove extra dimension\n",
    "        else:\n",
    "            # Use zero vector for unknown metabolites\n",
    "            fp = np.zeros(2048)\n",
    "        features.append(fp)\n",
    "    \n",
    "    features = np.array(features)\n",
    "    print(f\"Created features with shape: {features.shape}\")\n",
    "    return features\n",
    "\n",
    "# Load dataset\n",
    "dataset_name = 'iAF1260b'  # You can change this to other datasets\n",
    "reactions, metabolites_df = load_dataset(dataset_name)\n",
    "\n",
    "# Create incidence matrix\n",
    "incidence_matrix, all_metas = create_incidence_matrix(reactions, metabolites_df)\n",
    "print(f\"Incidence matrix shape: {incidence_matrix.shape}\")\n",
    "\n",
    "# Create molecular features\n",
    "molecular_features = create_molecular_features(metabolites_df, all_metas)\n",
    "\n",
    "print(f\"\\nDataset Summary:\")\n",
    "print(f\"Number of metabolites: {len(all_metas)}\")\n",
    "print(f\"Number of reactions: {len(reactions)}\")\n",
    "print(f\"Feature dimension: {molecular_features.shape[1]}\")"
   ]
  },
  {
   "cell_type": "markdown",
   "metadata": {},
   "source": [
    "## 5. Create Training Data"
   ]
  },
  {
   "cell_type": "code",
   "execution_count": 7,
   "metadata": {},
   "outputs": [
    {
     "name": "stdout",
     "output_type": "stream",
     "text": [
      "Preparing training data...\n",
      "Creating negative samples with ratio 1:1\n",
      "Training samples: 2256\n",
      "Validation samples: 323\n",
      "Test samples: 645\n"
     ]
    }
   ],
   "source": [
    "def create_negative_samples(incidence_matrix, negative_ratio=1):\n",
    "    \"\"\"Create negative samples by perturbing positive reactions\"\"\"\n",
    "    print(f\"Creating negative samples with ratio {negative_ratio}:1\")\n",
    "    \n",
    "    n_metabolites, n_reactions = incidence_matrix.shape\n",
    "    negative_matrix = np.zeros((n_metabolites, n_reactions * negative_ratio))\n",
    "    \n",
    "    for i in range(n_reactions):\n",
    "        for j in range(negative_ratio):\n",
    "            # Create negative sample by randomly perturbing the reaction\n",
    "            neg_reaction = incidence_matrix[:, i].copy()\n",
    "            \n",
    "            # Randomly change some metabolite coefficients\n",
    "            non_zero_indices = np.where(neg_reaction != 0)[0]\n",
    "            if len(non_zero_indices) > 1:\n",
    "                # Randomly change 50% of non-zero coefficients\n",
    "                num_to_change = max(1, len(non_zero_indices) // 2)\n",
    "                indices_to_change = np.random.choice(non_zero_indices, num_to_change, replace=False)\n",
    "                \n",
    "                for idx in indices_to_change:\n",
    "                    # Randomly change the coefficient\n",
    "                    neg_reaction[idx] = np.random.choice([-2, -1, 0, 1, 2])\n",
    "            \n",
    "            negative_matrix[:, i * negative_ratio + j] = neg_reaction\n",
    "    \n",
    "    return negative_matrix\n",
    "\n",
    "def prepare_training_data(incidence_matrix, features, test_size=0.2, val_size=0.1):\n",
    "    \"\"\"Prepare training, validation, and test data\"\"\"\n",
    "    print(\"Preparing training data...\")\n",
    "    \n",
    "    # Create negative samples\n",
    "    negative_matrix = create_negative_samples(incidence_matrix, negative_ratio=1)\n",
    "    \n",
    "    # Combine positive and negative samples\n",
    "    all_reactions = np.concatenate([incidence_matrix, negative_matrix], axis=1)\n",
    "    \n",
    "    # Create labels (1 for positive, 0 for negative)\n",
    "    positive_labels = np.ones(incidence_matrix.shape[1])\n",
    "    negative_labels = np.zeros(negative_matrix.shape[1])\n",
    "    all_labels = np.concatenate([positive_labels, negative_labels])\n",
    "    \n",
    "    # Split data\n",
    "    X_temp, X_test, y_temp, y_test = train_test_split(\n",
    "        all_reactions.T, all_labels, test_size=test_size, random_state=42, stratify=all_labels\n",
    "    )\n",
    "    \n",
    "    X_train, X_val, y_train, y_val = train_test_split(\n",
    "        X_temp, y_temp, test_size=val_size/(1-test_size), random_state=42, stratify=y_temp\n",
    "    )\n",
    "    \n",
    "    # Convert to tensors\n",
    "    X_train = torch.tensor(X_train.T, dtype=torch.float)\n",
    "    X_val = torch.tensor(X_val.T, dtype=torch.float)\n",
    "    X_test = torch.tensor(X_test.T, dtype=torch.float)\n",
    "    \n",
    "    y_train = torch.tensor(y_train, dtype=torch.long)\n",
    "    y_val = torch.tensor(y_val, dtype=torch.long)\n",
    "    y_test = torch.tensor(y_test, dtype=torch.long)\n",
    "    \n",
    "    print(f\"Training samples: {X_train.shape[1]}\")\n",
    "    print(f\"Validation samples: {X_val.shape[1]}\")\n",
    "    print(f\"Test samples: {X_test.shape[1]}\")\n",
    "    \n",
    "    return X_train, X_val, X_test, y_train, y_val, y_test, features\n",
    "\n",
    "# Prepare training data\n",
    "X_train, X_val, X_test, y_train, y_val, y_test, features = prepare_training_data(\n",
    "    incidence_matrix, molecular_features\n",
    ")"
   ]
  },
  {
   "cell_type": "markdown",
   "metadata": {},
   "source": [
    "## 6. Model Training"
   ]
  },
  {
   "cell_type": "code",
   "execution_count": 8,
   "metadata": {},
   "outputs": [
    {
     "name": "stdout",
     "output_type": "stream",
     "text": [
      "Training CLOSEgaps model...\n"
     ]
    },
    {
     "name": "stderr",
     "output_type": "stream",
     "text": [
      "Training:   2%|▋                                 | 1/50 [00:00<00:21,  2.27it/s]"
     ]
    },
    {
     "name": "stdout",
     "output_type": "stream",
     "text": [
      "Epoch 0: Loss=0.7563, Val F1=0.6944, Val AUC=0.6754\n"
     ]
    },
    {
     "name": "stderr",
     "output_type": "stream",
     "text": [
      "Training:  22%|███████▎                         | 11/50 [00:03<00:10,  3.56it/s]"
     ]
    },
    {
     "name": "stdout",
     "output_type": "stream",
     "text": [
      "Epoch 10: Loss=0.6273, Val F1=0.6776, Val AUC=0.7073\n"
     ]
    },
    {
     "name": "stderr",
     "output_type": "stream",
     "text": [
      "Training:  42%|█████████████▊                   | 21/50 [00:06<00:08,  3.60it/s]"
     ]
    },
    {
     "name": "stdout",
     "output_type": "stream",
     "text": [
      "Epoch 20: Loss=0.6367, Val F1=0.7128, Val AUC=0.7067\n"
     ]
    },
    {
     "name": "stderr",
     "output_type": "stream",
     "text": [
      "Training:  62%|████████████████████▍            | 31/50 [00:08<00:05,  3.58it/s]"
     ]
    },
    {
     "name": "stdout",
     "output_type": "stream",
     "text": [
      "Epoch 30: Loss=0.6075, Val F1=0.6467, Val AUC=0.6947\n"
     ]
    },
    {
     "name": "stderr",
     "output_type": "stream",
     "text": [
      "Training:  82%|███████████████████████████      | 41/50 [00:11<00:02,  3.56it/s]"
     ]
    },
    {
     "name": "stdout",
     "output_type": "stream",
     "text": [
      "Epoch 40: Loss=0.6124, Val F1=0.6424, Val AUC=0.6822\n"
     ]
    },
    {
     "name": "stderr",
     "output_type": "stream",
     "text": [
      "Training: 100%|█████████████████████████████████| 50/50 [00:14<00:00,  3.52it/s]"
     ]
    },
    {
     "name": "stdout",
     "output_type": "stream",
     "text": [
      "Best validation F1: 0.7304\n"
     ]
    },
    {
     "name": "stderr",
     "output_type": "stream",
     "text": [
      "\n"
     ]
    }
   ],
   "source": [
    "def train_model(X_train, X_val, y_train, y_val, features, \n",
    "                emb_dim=64, conv_dim=128, head=6, L=2, \n",
    "                lr=1e-2, weight_decay=1e-3, epochs=50, batch_size=256):\n",
    "    \"\"\"Train the CLOSEgaps model\"\"\"\n",
    "    print(\"Training CLOSEgaps model...\")\n",
    "    \n",
    "    # Calculate similarity matrix\n",
    "    features_tensor = torch.tensor(features, dtype=torch.float).to(device)\n",
    "    similarity_matrix = getGipKernel(features_tensor, lambda_param=1.0).to(device)\n",
    "    \n",
    "    # Initialize model\n",
    "    model = CLOSEgaps(\n",
    "        input_num=features.shape[0],\n",
    "        input_feature_num=features.shape[1],\n",
    "        emb_dim=emb_dim,\n",
    "        conv_dim=conv_dim,\n",
    "        head=head,\n",
    "        L=L,\n",
    "        similarity=similarity_matrix\n",
    "    ).to(device)\n",
    "    \n",
    "    # Optimizer and loss\n",
    "    optimizer = torch.optim.Adam(model.parameters(), lr=lr, weight_decay=weight_decay)\n",
    "    criterion = nn.CrossEntropyLoss()\n",
    "    \n",
    "    # Training loop\n",
    "    best_val_f1 = 0\n",
    "    best_model = None\n",
    "    \n",
    "    for epoch in tqdm(range(epochs), desc=\"Training\"):\n",
    "        model.train()\n",
    "        \n",
    "        # Batch training\n",
    "        total_loss = 0\n",
    "        num_batches = X_train.shape[1] // batch_size + (1 if X_train.shape[1] % batch_size != 0 else 0)\n",
    "        \n",
    "        for batch in range(num_batches):\n",
    "            start_idx = batch * batch_size\n",
    "            end_idx = min((batch + 1) * batch_size, X_train.shape[1])\n",
    "            \n",
    "            batch_X = X_train[:, start_idx:end_idx].to(device)\n",
    "            batch_y = y_train[start_idx:end_idx].to(device)\n",
    "            \n",
    "            optimizer.zero_grad()\n",
    "            \n",
    "            # Forward pass\n",
    "            outputs = model(features_tensor.to(device), batch_X)\n",
    "            loss = criterion(outputs, batch_y)\n",
    "            \n",
    "            # Backward pass\n",
    "            loss.backward()\n",
    "            optimizer.step()\n",
    "            \n",
    "            total_loss += loss.item()\n",
    "        \n",
    "        # Validation\n",
    "        model.eval()\n",
    "        with torch.no_grad():\n",
    "            val_outputs = model(features_tensor.to(device), X_val.to(device))\n",
    "            val_probs = torch.softmax(val_outputs, dim=1)\n",
    "            val_preds = (val_probs[:, 1] >= 0.5).long()\n",
    "            \n",
    "            val_f1 = f1_score(y_val.cpu(), val_preds.cpu())\n",
    "            val_auc = roc_auc_score(y_val.cpu(), val_probs[:, 1].cpu())\n",
    "            \n",
    "            if val_f1 > best_val_f1:\n",
    "                best_val_f1 = val_f1\n",
    "                best_model = model.state_dict().copy()\n",
    "        \n",
    "        if epoch % 10 == 0:\n",
    "            print(f\"Epoch {epoch}: Loss={total_loss/num_batches:.4f}, Val F1={val_f1:.4f}, Val AUC={val_auc:.4f}\")\n",
    "    \n",
    "    # Load best model\n",
    "    model.load_state_dict(best_model)\n",
    "    print(f\"Best validation F1: {best_val_f1:.4f}\")\n",
    "    \n",
    "    return model\n",
    "\n",
    "# Train the model\n",
    "trained_model = train_model(X_train, X_val, y_train, y_val, molecular_features)"
   ]
  },
  {
   "cell_type": "markdown",
   "metadata": {},
   "source": [
    "## 7. Model Evaluation"
   ]
  },
  {
   "cell_type": "code",
   "execution_count": 9,
   "metadata": {},
   "outputs": [
    {
     "name": "stdout",
     "output_type": "stream",
     "text": [
      "Evaluating model on test data...\n",
      "\n",
      "Test Results:\n",
      "F1 Score: 0.6264\n",
      "Precision: 0.6417\n",
      "Recall: 0.6118\n",
      "AUC: 0.6875\n",
      "AUPR: 0.6271\n"
     ]
    }
   ],
   "source": [
    "def evaluate_model(model, X_test, y_test, features):\n",
    "    \"\"\"Evaluate the trained model on test data\"\"\"\n",
    "    print(\"Evaluating model on test data...\")\n",
    "    \n",
    "    model.eval()\n",
    "    features_tensor = torch.tensor(features, dtype=torch.float).to(device)\n",
    "    \n",
    "    with torch.no_grad():\n",
    "        test_outputs = model(features_tensor.to(device), X_test.to(device))\n",
    "        test_probs = torch.softmax(test_outputs, dim=1)\n",
    "        test_preds = (test_probs[:, 1] >= 0.5).long()\n",
    "        \n",
    "        # Calculate metrics\n",
    "        test_f1 = f1_score(y_test.cpu(), test_preds.cpu())\n",
    "        test_precision = precision_score(y_test.cpu(), test_preds.cpu())\n",
    "        test_recall = recall_score(y_test.cpu(), test_preds.cpu())\n",
    "        test_auc = roc_auc_score(y_test.cpu(), test_probs[:, 1].cpu())\n",
    "        test_aupr = average_precision_score(y_test.cpu(), test_probs[:, 1].cpu())\n",
    "        \n",
    "        print(f\"\\nTest Results:\")\n",
    "        print(f\"F1 Score: {test_f1:.4f}\")\n",
    "        print(f\"Precision: {test_precision:.4f}\")\n",
    "        print(f\"Recall: {test_recall:.4f}\")\n",
    "        print(f\"AUC: {test_auc:.4f}\")\n",
    "        print(f\"AUPR: {test_aupr:.4f}\")\n",
    "        \n",
    "        return test_probs, test_preds\n",
    "\n",
    "# Evaluate the model\n",
    "test_probs, test_preds = evaluate_model(trained_model, X_test, y_test, molecular_features)"
   ]
  },
  {
   "cell_type": "markdown",
   "metadata": {},
   "source": [
    "## 8. Prediction on New Data"
   ]
  },
  {
   "cell_type": "code",
   "execution_count": 10,
   "metadata": {},
   "outputs": [
    {
     "name": "stdout",
     "output_type": "stream",
     "text": [
      "Predicting missing reactions...\n",
      "Found 57 potential missing reactions\n",
      "\n",
      "Top 10 predicted missing reactions:\n",
      "1. Reaction 12: Probability = 0.8936\n",
      "2. Reaction 85: Probability = 0.8787\n",
      "3. Reaction 86: Probability = 0.8787\n",
      "4. Reaction 80: Probability = 0.8669\n",
      "5. Reaction 70: Probability = 0.8487\n",
      "6. Reaction 35: Probability = 0.8440\n",
      "7. Reaction 37: Probability = 0.8440\n",
      "8. Reaction 40: Probability = 0.8395\n",
      "9. Reaction 39: Probability = 0.8356\n",
      "10. Reaction 43: Probability = 0.8334\n"
     ]
    }
   ],
   "source": [
    "def predict_missing_reactions(model, new_incidence_matrix, features, threshold=0.5):\n",
    "    \"\"\"Predict missing reactions in a new metabolic network\"\"\"\n",
    "    print(\"Predicting missing reactions...\")\n",
    "    \n",
    "    model.eval()\n",
    "    features_tensor = torch.tensor(features, dtype=torch.float).to(device)\n",
    "    new_incidence_tensor = torch.tensor(new_incidence_matrix, dtype=torch.float).to(device)\n",
    "    \n",
    "    with torch.no_grad():\n",
    "        predictions = model(features_tensor, new_incidence_tensor)\n",
    "        probabilities = torch.softmax(predictions, dim=1)\n",
    "        \n",
    "        # Get positive class probabilities\n",
    "        positive_probs = probabilities[:, 1].cpu().numpy()\n",
    "        \n",
    "        # Find reactions with high probability of being missing\n",
    "        missing_reactions = positive_probs > threshold\n",
    "        \n",
    "        print(f\"Found {np.sum(missing_reactions)} potential missing reactions\")\n",
    "        \n",
    "        return positive_probs, missing_reactions\n",
    "\n",
    "# Example: Predict missing reactions in a subset of the data\n",
    "subset_size = 100\n",
    "subset_incidence = incidence_matrix[:, :subset_size]\n",
    "\n",
    "probabilities, missing_reactions = predict_missing_reactions(\n",
    "    trained_model, subset_incidence, molecular_features\n",
    ")\n",
    "\n",
    "# Show top predicted missing reactions\n",
    "top_indices = np.argsort(probabilities)[-10:][::-1]\n",
    "print(\"\\nTop 10 predicted missing reactions:\")\n",
    "for i, idx in enumerate(top_indices):\n",
    "    print(f\"{i+1}. Reaction {idx}: Probability = {probabilities[idx]:.4f}\")"
   ]
  },
  {
   "cell_type": "markdown",
   "metadata": {},
   "source": [
    "## 9. Visualization and Analysis"
   ]
  },
  {
   "cell_type": "code",
   "execution_count": 11,
   "metadata": {},
   "outputs": [
    {
     "data": {
      "image/png": "[encoded data removed]",
      "text/plain": [
       "<Figure size 1200x400 with 3 Axes>"
      ]
     },
     "metadata": {},
     "output_type": "display_data"
    },
    {
     "data": {
      "image/png": "[encoded data removed]",
      "text/plain": [
       "<Figure size 1000x600 with 1 Axes>"
      ]
     },
     "metadata": {},
     "output_type": "display_data"
    },
    {
     "name": "stdout",
     "output_type": "stream",
     "text": [
      "\n",
      "Metabolite participation statistics:\n",
      "Mean reactions per metabolite: 8.42\n",
      "Median reactions per metabolite: 3.00\n",
      "Max reactions per metabolite: 876.0\n",
      "Min reactions per metabolite: 1.0\n"
     ]
    }
   ],
   "source": [
    "import matplotlib.pyplot as plt\n",
    "import seaborn as sns\n",
    "\n",
    "# Plot training history (if you saved it)\n",
    "plt.figure(figsize=(12, 4))\n",
    "\n",
    "# Plot 1: Prediction probabilities distribution\n",
    "plt.subplot(1, 3, 1)\n",
    "plt.hist(test_probs[:, 1].cpu().numpy(), bins=50, alpha=0.7, color='skyblue')\n",
    "plt.xlabel('Prediction Probability')\n",
    "plt.ylabel('Frequency')\n",
    "plt.title('Distribution of Prediction Probabilities')\n",
    "\n",
    "# Plot 2: ROC curve\n",
    "from sklearn.metrics import roc_curve\n",
    "fpr, tpr, _ = roc_curve(y_test.cpu(), test_probs[:, 1].cpu())\n",
    "plt.subplot(1, 3, 2)\n",
    "plt.plot(fpr, tpr, color='red', linewidth=2)\n",
    "plt.plot([0, 1], [0, 1], 'k--', alpha=0.5)\n",
    "plt.xlabel('False Positive Rate')\n",
    "plt.ylabel('True Positive Rate')\n",
    "plt.title('ROC Curve')\n",
    "\n",
    "# Plot 3: Precision-Recall curve\n",
    "from sklearn.metrics import precision_recall_curve\n",
    "precision, recall, _ = precision_recall_curve(y_test.cpu(), test_probs[:, 1].cpu())\n",
    "plt.subplot(1, 3, 3)\n",
    "plt.plot(recall, precision, color='green', linewidth=2)\n",
    "plt.xlabel('Recall')\n",
    "plt.ylabel('Precision')\n",
    "plt.title('Precision-Recall Curve')\n",
    "\n",
    "plt.tight_layout()\n",
    "plt.show()\n",
    "\n",
    "# Analyze metabolite participation\n",
    "metabolite_participation = np.sum(np.abs(incidence_matrix), axis=1)\n",
    "plt.figure(figsize=(10, 6))\n",
    "plt.hist(metabolite_participation, bins=50, alpha=0.7, color='orange')\n",
    "plt.xlabel('Number of Reactions per Metabolite')\n",
    "plt.ylabel('Frequency')\n",
    "plt.title('Metabolite Participation Distribution')\n",
    "plt.show()\n",
    "\n",
    "print(f\"\\nMetabolite participation statistics:\")\n",
    "print(f\"Mean reactions per metabolite: {np.mean(metabolite_participation):.2f}\")\n",
    "print(f\"Median reactions per metabolite: {np.median(metabolite_participation):.2f}\")\n",
    "print(f\"Max reactions per metabolite: {np.max(metabolite_participation)}\")\n",
    "print(f\"Min reactions per metabolite: {np.min(metabolite_participation)}\")"
   ]
  },
  {
   "cell_type": "markdown",
   "metadata": {},
   "source": [
    "## 10. Summary and Next Steps"
   ]
  },
  {
   "cell_type": "code",
   "execution_count": 13,
   "metadata": {},
   "outputs": [
    {
     "name": "stdout",
     "output_type": "stream",
     "text": [
      "CLOSEgaps Tutorial Summary\n",
      "==================================================\n",
      "Dataset used: iAF1260b\n",
      "Number of metabolites: 750\n",
      "Number of reactions: 1612\n",
      "Feature dimension: 2048\n",
      "Model architecture: Hypergraph Neural Network\n",
      "Training completed successfully!\n"
     ]
    }
   ],
   "source": [
    "print(\"CLOSEgaps Tutorial Summary\")\n",
    "print(\"=\" * 50)\n",
    "print(f\"Dataset used: {dataset_name}\")\n",
    "print(f\"Number of metabolites: {len(all_metas)}\")\n",
    "print(f\"Number of reactions: {len(reactions)}\")\n",
    "print(f\"Feature dimension: {molecular_features.shape[1]}\")\n",
    "print(f\"Model architecture: Hypergraph Neural Network\")\n",
    "print(f\"Training completed successfully!\")"
   ]
  }
 ],
 "metadata": {
  "kernelspec": {
   "display_name": "Python 3 (ipykernel)",
   "language": "python",
   "name": "python3"
  },
  "language_info": {
   "codemirror_mode": {
    "name": "ipython",
    "version": 3
   },
   "file_extension": ".py",
   "mimetype": "text/x-python",
   "name": "python",
   "nbconvert_exporter": "python",
   "pygments_lexer": "ipython3",
   "version": "3.9.6"
  }
 },
 "nbformat": 4,
 "nbformat_minor": 4
}
